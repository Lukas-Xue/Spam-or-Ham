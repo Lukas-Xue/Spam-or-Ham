{
 "cells": [
  {
   "cell_type": "code",
   "execution_count": 84,
   "id": "85114830",
   "metadata": {},
   "outputs": [],
   "source": [
    "import pandas as pd"
   ]
  },
  {
   "cell_type": "code",
   "execution_count": 85,
   "id": "8e9cb359",
   "metadata": {},
   "outputs": [],
   "source": [
    "# READING DATA\n",
    "data = pd.read_csv('./DATA/raw', sep='\\t', header=None, names=['label', 'content'])"
   ]
  },
  {
   "cell_type": "code",
   "execution_count": 86,
   "id": "b9727e08",
   "metadata": {},
   "outputs": [
    {
     "data": {
      "text/html": [
       "<div>\n",
       "<style scoped>\n",
       "    .dataframe tbody tr th:only-of-type {\n",
       "        vertical-align: middle;\n",
       "    }\n",
       "\n",
       "    .dataframe tbody tr th {\n",
       "        vertical-align: top;\n",
       "    }\n",
       "\n",
       "    .dataframe thead th {\n",
       "        text-align: right;\n",
       "    }\n",
       "</style>\n",
       "<table border=\"1\" class=\"dataframe\">\n",
       "  <thead>\n",
       "    <tr style=\"text-align: right;\">\n",
       "      <th></th>\n",
       "      <th>label</th>\n",
       "      <th>content</th>\n",
       "    </tr>\n",
       "  </thead>\n",
       "  <tbody>\n",
       "    <tr>\n",
       "      <th>0</th>\n",
       "      <td>ham</td>\n",
       "      <td>Go until jurong point, crazy.. Available only ...</td>\n",
       "    </tr>\n",
       "    <tr>\n",
       "      <th>1</th>\n",
       "      <td>ham</td>\n",
       "      <td>Ok lar... Joking wif u oni...</td>\n",
       "    </tr>\n",
       "    <tr>\n",
       "      <th>2</th>\n",
       "      <td>spam</td>\n",
       "      <td>Free entry in 2 a wkly comp to win FA Cup fina...</td>\n",
       "    </tr>\n",
       "    <tr>\n",
       "      <th>3</th>\n",
       "      <td>ham</td>\n",
       "      <td>U dun say so early hor... U c already then say...</td>\n",
       "    </tr>\n",
       "    <tr>\n",
       "      <th>4</th>\n",
       "      <td>ham</td>\n",
       "      <td>Nah I don't think he goes to usf, he lives aro...</td>\n",
       "    </tr>\n",
       "    <tr>\n",
       "      <th>...</th>\n",
       "      <td>...</td>\n",
       "      <td>...</td>\n",
       "    </tr>\n",
       "    <tr>\n",
       "      <th>5567</th>\n",
       "      <td>spam</td>\n",
       "      <td>This is the 2nd time we have tried 2 contact u...</td>\n",
       "    </tr>\n",
       "    <tr>\n",
       "      <th>5568</th>\n",
       "      <td>ham</td>\n",
       "      <td>Will ü b going to esplanade fr home?</td>\n",
       "    </tr>\n",
       "    <tr>\n",
       "      <th>5569</th>\n",
       "      <td>ham</td>\n",
       "      <td>Pity, * was in mood for that. So...any other s...</td>\n",
       "    </tr>\n",
       "    <tr>\n",
       "      <th>5570</th>\n",
       "      <td>ham</td>\n",
       "      <td>The guy did some bitching but I acted like i'd...</td>\n",
       "    </tr>\n",
       "    <tr>\n",
       "      <th>5571</th>\n",
       "      <td>ham</td>\n",
       "      <td>Rofl. Its true to its name</td>\n",
       "    </tr>\n",
       "  </tbody>\n",
       "</table>\n",
       "<p>5572 rows × 2 columns</p>\n",
       "</div>"
      ],
      "text/plain": [
       "     label                                            content\n",
       "0      ham  Go until jurong point, crazy.. Available only ...\n",
       "1      ham                      Ok lar... Joking wif u oni...\n",
       "2     spam  Free entry in 2 a wkly comp to win FA Cup fina...\n",
       "3      ham  U dun say so early hor... U c already then say...\n",
       "4      ham  Nah I don't think he goes to usf, he lives aro...\n",
       "...    ...                                                ...\n",
       "5567  spam  This is the 2nd time we have tried 2 contact u...\n",
       "5568   ham               Will ü b going to esplanade fr home?\n",
       "5569   ham  Pity, * was in mood for that. So...any other s...\n",
       "5570   ham  The guy did some bitching but I acted like i'd...\n",
       "5571   ham                         Rofl. Its true to its name\n",
       "\n",
       "[5572 rows x 2 columns]"
      ]
     },
     "execution_count": 86,
     "metadata": {},
     "output_type": "execute_result"
    }
   ],
   "source": [
    "data"
   ]
  },
  {
   "cell_type": "code",
   "execution_count": null,
   "id": "7f6161df",
   "metadata": {},
   "outputs": [],
   "source": [
    "# PART 1 -- DATA PREPROCESSING --"
   ]
  },
  {
   "cell_type": "code",
   "execution_count": 113,
   "id": "49bd0cad",
   "metadata": {},
   "outputs": [
    {
     "name": "stderr",
     "output_type": "stream",
     "text": [
      "[nltk_data] Downloading package punkt to /Users/lukasxue/nltk_data...\n",
      "[nltk_data]   Package punkt is already up-to-date!\n",
      "[nltk_data] Downloading package stopwords to\n",
      "[nltk_data]     /Users/lukasxue/nltk_data...\n",
      "[nltk_data]   Unzipping corpora/stopwords.zip.\n"
     ]
    },
    {
     "data": {
      "text/plain": [
       "True"
      ]
     },
     "execution_count": 113,
     "metadata": {},
     "output_type": "execute_result"
    }
   ],
   "source": [
    "from nltk.stem import PorterStemmer\n",
    "from nltk.tokenize import word_tokenize\n",
    "import string\n",
    "\n",
    "# FIRST TIME MIGHT NEED BELOW CODE\n",
    "# import nltk\n",
    "# nltk.download('punkt')\n",
    "# nltk.download('stopwords')"
   ]
  },
  {
   "cell_type": "code",
   "execution_count": 88,
   "id": "6013d9d7",
   "metadata": {},
   "outputs": [],
   "source": [
    "# Getting all the emails\n",
    "emails = []\n",
    "for value in data.values:\n",
    "    emails.append(value[1])"
   ]
  },
  {
   "cell_type": "code",
   "execution_count": 94,
   "id": "53f23c24",
   "metadata": {},
   "outputs": [],
   "source": [
    "# Remove punctuations & Tokenization\n",
    "emails_no_punc = []\n",
    "for email in emails:\n",
    "    no_punc = [ch for ch in email if ch not in string.punctuation]\n",
    "    no_punc = ''.join(no_punc).split()\n",
    "    emails_no_punc.append(no_punc)"
   ]
  },
  {
   "cell_type": "code",
   "execution_count": 106,
   "id": "aa0f2651",
   "metadata": {},
   "outputs": [],
   "source": [
    "# Stemming\n",
    "stemmer = PorterStemmer()\n",
    "emails_no_punc_stemmed = []\n",
    "for email in emails_no_punc:\n",
    "    stem = []\n",
    "    for word in email:\n",
    "        stem.append(stemmer.stem(word))\n",
    "    emails_no_punc_stemmed.append(stem)"
   ]
  },
  {
   "cell_type": "code",
   "execution_count": 117,
   "id": "5669c191",
   "metadata": {},
   "outputs": [],
   "source": [
    "# Remove Stop Words\n",
    "from nltk.corpus import stopwords\n",
    "emails_no_punc_stemmed_no_stopword = []\n",
    "for email in emails_no_punc_stemmed:\n",
    "    no_stop_word = [word.lower() for word in email if \n",
    "                    word.lower() not in stopwords.words('english')]\n",
    "    emails_no_punc_stemmed_no_stopword.append(no_stop_word)"
   ]
  },
  {
   "cell_type": "code",
   "execution_count": 118,
   "id": "130cb9e9",
   "metadata": {},
   "outputs": [],
   "source": [
    "# PART 2 -- DATA EXPLORATION & VISUALIZATION --"
   ]
  },
  {
   "cell_type": "code",
   "execution_count": 119,
   "id": "f59bc799",
   "metadata": {},
   "outputs": [],
   "source": [
    "# Getting labels\n",
    "label = []\n",
    "for value in data.values:\n",
    "    label.append(value[0])"
   ]
  },
  {
   "cell_type": "code",
   "execution_count": 120,
   "id": "183b4ef3",
   "metadata": {},
   "outputs": [],
   "source": [
    "# Getting word frequencies\n",
    "ham_words = []\n",
    "spam_words = []\n",
    "for i in range(len(label)):\n",
    "    if label[i] == 'ham':\n",
    "        for word in emails_no_punc_stemmed_no_stopword[i]:\n",
    "            ham_words.append(word)\n",
    "    else:\n",
    "        for word in emails_no_punc_stemmed_no_stopword[i]:\n",
    "            spam_words.append(word)"
   ]
  },
  {
   "cell_type": "code",
   "execution_count": 121,
   "id": "756fd333",
   "metadata": {},
   "outputs": [],
   "source": [
    "from collections import Counter"
   ]
  },
  {
   "cell_type": "code",
   "execution_count": 122,
   "id": "7739958b",
   "metadata": {},
   "outputs": [],
   "source": [
    "ham_count = Counter(ham_words)\n",
    "spam_count = Counter(spam_words)"
   ]
  },
  {
   "cell_type": "code",
   "execution_count": 125,
   "id": "72a3bb01",
   "metadata": {},
   "outputs": [
    {
     "data": {
      "text/plain": [
       "[('u', 985),\n",
       " ('im', 452),\n",
       " ('go', 417),\n",
       " ('get', 360),\n",
       " ('2', 309),\n",
       " ('come', 295),\n",
       " ('call', 289),\n",
       " ('ltgt', 276),\n",
       " ('ok', 273),\n",
       " ('dont', 265),\n",
       " ('ur', 246),\n",
       " ('thi', 245),\n",
       " ('like', 244),\n",
       " ('know', 244),\n",
       " ('ill', 240),\n",
       " ('love', 239),\n",
       " ('got', 232),\n",
       " ('wa', 225),\n",
       " ('good', 225),\n",
       " ('time', 219)]"
      ]
     },
     "execution_count": 125,
     "metadata": {},
     "output_type": "execute_result"
    }
   ],
   "source": [
    "ham_count.most_common(20)"
   ]
  },
  {
   "cell_type": "code",
   "execution_count": 126,
   "id": "e46d0082",
   "metadata": {},
   "outputs": [
    {
     "data": {
      "text/plain": [
       "[('call', 366),\n",
       " ('free', 216),\n",
       " ('2', 173),\n",
       " ('txt', 163),\n",
       " ('u', 147),\n",
       " ('ur', 144),\n",
       " ('text', 138),\n",
       " ('mobil', 135),\n",
       " ('4', 119),\n",
       " ('claim', 115),\n",
       " ('stop', 115),\n",
       " ('repli', 109),\n",
       " ('prize', 94),\n",
       " ('get', 87),\n",
       " ('thi', 87),\n",
       " ('onli', 79),\n",
       " ('tone', 73),\n",
       " ('new', 72),\n",
       " ('servic', 72),\n",
       " ('send', 70)]"
      ]
     },
     "execution_count": 126,
     "metadata": {},
     "output_type": "execute_result"
    }
   ],
   "source": [
    "spam_count.most_common(20)"
   ]
  },
  {
   "cell_type": "code",
   "execution_count": null,
   "id": "aa8fd5c6",
   "metadata": {},
   "outputs": [],
   "source": []
  }
 ],
 "metadata": {
  "kernelspec": {
   "display_name": "Python 3 (ipykernel)",
   "language": "python",
   "name": "python3"
  },
  "language_info": {
   "codemirror_mode": {
    "name": "ipython",
    "version": 3
   },
   "file_extension": ".py",
   "mimetype": "text/x-python",
   "name": "python",
   "nbconvert_exporter": "python",
   "pygments_lexer": "ipython3",
   "version": "3.9.7"
  }
 },
 "nbformat": 4,
 "nbformat_minor": 5
}
